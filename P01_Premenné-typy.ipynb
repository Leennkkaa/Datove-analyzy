{
 "cells": [
  {
   "cell_type": "markdown",
   "id": "f4308656",
   "metadata": {},
   "source": [
    "# 01. Výpis, tlač"
   ]
  },
  {
   "cell_type": "code",
   "execution_count": 2,
   "id": "6bd92c67",
   "metadata": {},
   "outputs": [
    {
     "name": "stdout",
     "output_type": "stream",
     "text": [
      "its alive\n"
     ]
    }
   ],
   "source": [
    "print(\"its alive\");\n"
   ]
  },
  {
   "cell_type": "markdown",
   "id": "bca42408",
   "metadata": {},
   "source": [
    "# 02. Premenné a dátové typy"
   ]
  },
  {
   "cell_type": "code",
   "execution_count": 11,
   "id": "26442dbe",
   "metadata": {},
   "outputs": [
    {
     "name": "stdout",
     "output_type": "stream",
     "text": [
      "Ahoj Adam\n",
      "Ahoj Adam\n",
      "do Vianoc je este 23 dni!\n"
     ]
    }
   ],
   "source": [
    "# jednoriadkový komentár (poznámky,odkazy)\n",
    "# Reťazec (str - string)\n",
    "menoKlient = \"Adam\";\n",
    "print(\"Ahoj\", menoKlient)\n",
    "print(\"Ahoj \" + menoKlient)\n",
    "\n",
    "#Cele cislo (int - integer)\n",
    "pocetDniVianoce = 23\n",
    "print (\"do Vianoc je este\" , pocetDniVianoce, \"dni!\")"
   ]
  },
  {
   "cell_type": "code",
   "execution_count": null,
   "id": "d1a1704e",
   "metadata": {},
   "outputs": [],
   "source": []
  }
 ],
 "metadata": {
  "kernelspec": {
   "display_name": "Python 3 (ipykernel)",
   "language": "python",
   "name": "python3"
  },
  "language_info": {
   "codemirror_mode": {
    "name": "ipython",
    "version": 3
   },
   "file_extension": ".py",
   "mimetype": "text/x-python",
   "name": "python",
   "nbconvert_exporter": "python",
   "pygments_lexer": "ipython3",
   "version": "3.9.7"
  }
 },
 "nbformat": 4,
 "nbformat_minor": 5
}
